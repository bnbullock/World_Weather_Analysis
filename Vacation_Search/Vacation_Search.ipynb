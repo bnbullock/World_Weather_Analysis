{
 "cells": [
  {
   "cell_type": "markdown",
   "metadata": {},
   "source": [
    "## Deliverable 2. Create a Customer Travel Destinations Map."
   ]
  },
  {
   "cell_type": "code",
   "execution_count": 2,
   "metadata": {},
   "outputs": [],
   "source": [
    "# Dependencies and Setup\n",
    "import pandas as pd\n",
    "import requests\n",
    "import gmaps\n",
    "# import ipywidgets as widgets\n",
    "\n",
    "# Import API key\n",
    "from config import g_key\n",
    "\n",
    "# Configure gmaps API key\n",
    "gmaps.configure(api_key=g_key)"
   ]
  },
  {
   "cell_type": "code",
   "execution_count": 3,
   "metadata": {},
   "outputs": [
    {
     "output_type": "execute_result",
     "data": {
      "text/plain": [
       "   City_ID        City Country      Lat       Lng  Max Temp  Humidity  \\\n",
       "0        0      Avarua      CK -21.2078 -159.7750     77.05        73   \n",
       "1        1   Jamestown      US  42.0970  -79.2353     85.32        44   \n",
       "2        2     Ochakiv      UA  46.6128   31.5498     60.94        64   \n",
       "3        3  Chokurdakh      RU  70.6333  147.9167     59.70        60   \n",
       "4        4     Kodinsk      RU  58.6881   99.1844     43.16        60   \n",
       "\n",
       "   Cloudiness  Wind Speed Current Description  \n",
       "0          40        9.22    scattered clouds  \n",
       "1           1        8.05           clear sky  \n",
       "2          48        7.43    scattered clouds  \n",
       "3          48        3.49    scattered clouds  \n",
       "4         100        3.22     overcast clouds  "
      ],
      "text/html": "<div>\n<style scoped>\n    .dataframe tbody tr th:only-of-type {\n        vertical-align: middle;\n    }\n\n    .dataframe tbody tr th {\n        vertical-align: top;\n    }\n\n    .dataframe thead th {\n        text-align: right;\n    }\n</style>\n<table border=\"1\" class=\"dataframe\">\n  <thead>\n    <tr style=\"text-align: right;\">\n      <th></th>\n      <th>City_ID</th>\n      <th>City</th>\n      <th>Country</th>\n      <th>Lat</th>\n      <th>Lng</th>\n      <th>Max Temp</th>\n      <th>Humidity</th>\n      <th>Cloudiness</th>\n      <th>Wind Speed</th>\n      <th>Current Description</th>\n    </tr>\n  </thead>\n  <tbody>\n    <tr>\n      <th>0</th>\n      <td>0</td>\n      <td>Avarua</td>\n      <td>CK</td>\n      <td>-21.2078</td>\n      <td>-159.7750</td>\n      <td>77.05</td>\n      <td>73</td>\n      <td>40</td>\n      <td>9.22</td>\n      <td>scattered clouds</td>\n    </tr>\n    <tr>\n      <th>1</th>\n      <td>1</td>\n      <td>Jamestown</td>\n      <td>US</td>\n      <td>42.0970</td>\n      <td>-79.2353</td>\n      <td>85.32</td>\n      <td>44</td>\n      <td>1</td>\n      <td>8.05</td>\n      <td>clear sky</td>\n    </tr>\n    <tr>\n      <th>2</th>\n      <td>2</td>\n      <td>Ochakiv</td>\n      <td>UA</td>\n      <td>46.6128</td>\n      <td>31.5498</td>\n      <td>60.94</td>\n      <td>64</td>\n      <td>48</td>\n      <td>7.43</td>\n      <td>scattered clouds</td>\n    </tr>\n    <tr>\n      <th>3</th>\n      <td>3</td>\n      <td>Chokurdakh</td>\n      <td>RU</td>\n      <td>70.6333</td>\n      <td>147.9167</td>\n      <td>59.70</td>\n      <td>60</td>\n      <td>48</td>\n      <td>3.49</td>\n      <td>scattered clouds</td>\n    </tr>\n    <tr>\n      <th>4</th>\n      <td>4</td>\n      <td>Kodinsk</td>\n      <td>RU</td>\n      <td>58.6881</td>\n      <td>99.1844</td>\n      <td>43.16</td>\n      <td>60</td>\n      <td>100</td>\n      <td>3.22</td>\n      <td>overcast clouds</td>\n    </tr>\n  </tbody>\n</table>\n</div>"
     },
     "metadata": {},
     "execution_count": 3
    }
   ],
   "source": [
    "# 1. Import the WeatherPy_database.csv file. \n",
    "city_data_df = pd.read_csv(\"../Weather_Database/WeatherPy_database.csv\")\n",
    "city_data_df.head()"
   ]
  },
  {
   "cell_type": "code",
   "execution_count": 4,
   "metadata": {},
   "outputs": [],
   "source": [
    "# 2. Prompt the user to enter minimum and maximum temperature criteria \n",
    "min_temp = float(input(\"What is the minimum temperature you would like for your trip? \"))\n",
    "max_temp = float(input(\"What is the maximum temperature you would like for your trip? \"))"
   ]
  },
  {
   "cell_type": "code",
   "execution_count": 5,
   "metadata": {},
   "outputs": [
    {
     "output_type": "stream",
     "name": "stdout",
     "text": [
      "City_ID                443\nCity                   443\nCountry                440\nLat                    443\nLng                    443\nMax Temp               443\nHumidity               443\nCloudiness             443\nWind Speed             443\nCurrent Description    443\ndtype: int64\n"
     ]
    }
   ],
   "source": [
    "# 3. Filter the city_data_df DataFrame using the input statements to create a new DataFrame using the loc method.\n",
    "preferred_cities_df = city_data_df.loc[(city_data_df[\"Max Temp\"] <= max_temp) & (city_data_df[\"Max Temp\"] >= min_temp)]\n",
    "preferred_cities_df.head(10)\n",
    "print(preferred_cities_df.count())"
   ]
  },
  {
   "cell_type": "code",
   "execution_count": 6,
   "metadata": {},
   "outputs": [
    {
     "output_type": "stream",
     "name": "stdout",
     "text": [
      "Empty rows: 3\n"
     ]
    }
   ],
   "source": [
    "# 4a. Determine if there are any empty rows.\n",
    "empty_city_rows = preferred_cities_df.isna().sum().sum()\n",
    "print(\"Empty rows: \" + str(empty_city_rows))"
   ]
  },
  {
   "cell_type": "code",
   "execution_count": 7,
   "metadata": {},
   "outputs": [
    {
     "output_type": "stream",
     "name": "stdout",
     "text": [
      "City_ID                440\nCity                   440\nCountry                440\nLat                    440\nLng                    440\nMax Temp               440\nHumidity               440\nCloudiness             440\nWind Speed             440\nCurrent Description    440\ndtype: int64\n"
     ]
    }
   ],
   "source": [
    "# 4b. Drop any empty rows and create a new DataFrame that doesn’t have empty rows.\n",
    "clean_df = preferred_cities_df.dropna()\n",
    "print(clean_df.count())"
   ]
  },
  {
   "cell_type": "code",
   "execution_count": 8,
   "metadata": {},
   "outputs": [
    {
     "output_type": "execute_result",
     "data": {
      "text/plain": [
       "   City_ID             City Country      Lat       Lng  Max Temp  Humidity  \\\n",
       "0        0           Avarua      CK -21.2078 -159.7750     77.05        73   \n",
       "2        2          Ochakiv      UA  46.6128   31.5498     60.94        64   \n",
       "3        3       Chokurdakh      RU  70.6333  147.9167     59.70        60   \n",
       "6        6         Bengkulu      ID  -3.8004  102.2655     74.98        92   \n",
       "7        7  Haines Junction      CA  60.7522 -137.5108     60.75        39   \n",
       "\n",
       "   Cloudiness  Wind Speed Current Description  \n",
       "0          40        9.22    scattered clouds  \n",
       "2          48        7.43    scattered clouds  \n",
       "3          48        3.49    scattered clouds  \n",
       "6          18        3.53          few clouds  \n",
       "7          79       11.50          light rain  "
      ],
      "text/html": "<div>\n<style scoped>\n    .dataframe tbody tr th:only-of-type {\n        vertical-align: middle;\n    }\n\n    .dataframe tbody tr th {\n        vertical-align: top;\n    }\n\n    .dataframe thead th {\n        text-align: right;\n    }\n</style>\n<table border=\"1\" class=\"dataframe\">\n  <thead>\n    <tr style=\"text-align: right;\">\n      <th></th>\n      <th>City_ID</th>\n      <th>City</th>\n      <th>Country</th>\n      <th>Lat</th>\n      <th>Lng</th>\n      <th>Max Temp</th>\n      <th>Humidity</th>\n      <th>Cloudiness</th>\n      <th>Wind Speed</th>\n      <th>Current Description</th>\n    </tr>\n  </thead>\n  <tbody>\n    <tr>\n      <th>0</th>\n      <td>0</td>\n      <td>Avarua</td>\n      <td>CK</td>\n      <td>-21.2078</td>\n      <td>-159.7750</td>\n      <td>77.05</td>\n      <td>73</td>\n      <td>40</td>\n      <td>9.22</td>\n      <td>scattered clouds</td>\n    </tr>\n    <tr>\n      <th>2</th>\n      <td>2</td>\n      <td>Ochakiv</td>\n      <td>UA</td>\n      <td>46.6128</td>\n      <td>31.5498</td>\n      <td>60.94</td>\n      <td>64</td>\n      <td>48</td>\n      <td>7.43</td>\n      <td>scattered clouds</td>\n    </tr>\n    <tr>\n      <th>3</th>\n      <td>3</td>\n      <td>Chokurdakh</td>\n      <td>RU</td>\n      <td>70.6333</td>\n      <td>147.9167</td>\n      <td>59.70</td>\n      <td>60</td>\n      <td>48</td>\n      <td>3.49</td>\n      <td>scattered clouds</td>\n    </tr>\n    <tr>\n      <th>6</th>\n      <td>6</td>\n      <td>Bengkulu</td>\n      <td>ID</td>\n      <td>-3.8004</td>\n      <td>102.2655</td>\n      <td>74.98</td>\n      <td>92</td>\n      <td>18</td>\n      <td>3.53</td>\n      <td>few clouds</td>\n    </tr>\n    <tr>\n      <th>7</th>\n      <td>7</td>\n      <td>Haines Junction</td>\n      <td>CA</td>\n      <td>60.7522</td>\n      <td>-137.5108</td>\n      <td>60.75</td>\n      <td>39</td>\n      <td>79</td>\n      <td>11.50</td>\n      <td>light rain</td>\n    </tr>\n  </tbody>\n</table>\n</div>"
     },
     "metadata": {},
     "execution_count": 8
    }
   ],
   "source": [
    "clean_df.head(5)"
   ]
  },
  {
   "cell_type": "code",
   "execution_count": 9,
   "metadata": {},
   "outputs": [
    {
     "output_type": "execute_result",
     "data": {
      "text/plain": [
       "               City Country  Max Temp Current Description      Lat       Lng  \\\n",
       "0            Avarua      CK     77.05    scattered clouds -21.2078 -159.7750   \n",
       "2           Ochakiv      UA     60.94    scattered clouds  46.6128   31.5498   \n",
       "3        Chokurdakh      RU     59.70    scattered clouds  70.6333  147.9167   \n",
       "6          Bengkulu      ID     74.98          few clouds  -3.8004  102.2655   \n",
       "7   Haines Junction      CA     60.75          light rain  60.7522 -137.5108   \n",
       "9           Rikitea      PF     75.81     overcast clouds -23.1203 -134.9692   \n",
       "10   Saint-Philippe      RE     73.47          light rain -21.3585   55.7679   \n",
       "11           Castro      BR     59.61           clear sky -24.7911  -50.0119   \n",
       "12           Nabire      ID     76.14     overcast clouds  -3.3667  135.4833   \n",
       "14         Souillac      MU     70.18    scattered clouds -20.5167   57.5167   \n",
       "\n",
       "   Hotel Name  \n",
       "0              \n",
       "2              \n",
       "3              \n",
       "6              \n",
       "7              \n",
       "9              \n",
       "10             \n",
       "11             \n",
       "12             \n",
       "14             "
      ],
      "text/html": "<div>\n<style scoped>\n    .dataframe tbody tr th:only-of-type {\n        vertical-align: middle;\n    }\n\n    .dataframe tbody tr th {\n        vertical-align: top;\n    }\n\n    .dataframe thead th {\n        text-align: right;\n    }\n</style>\n<table border=\"1\" class=\"dataframe\">\n  <thead>\n    <tr style=\"text-align: right;\">\n      <th></th>\n      <th>City</th>\n      <th>Country</th>\n      <th>Max Temp</th>\n      <th>Current Description</th>\n      <th>Lat</th>\n      <th>Lng</th>\n      <th>Hotel Name</th>\n    </tr>\n  </thead>\n  <tbody>\n    <tr>\n      <th>0</th>\n      <td>Avarua</td>\n      <td>CK</td>\n      <td>77.05</td>\n      <td>scattered clouds</td>\n      <td>-21.2078</td>\n      <td>-159.7750</td>\n      <td></td>\n    </tr>\n    <tr>\n      <th>2</th>\n      <td>Ochakiv</td>\n      <td>UA</td>\n      <td>60.94</td>\n      <td>scattered clouds</td>\n      <td>46.6128</td>\n      <td>31.5498</td>\n      <td></td>\n    </tr>\n    <tr>\n      <th>3</th>\n      <td>Chokurdakh</td>\n      <td>RU</td>\n      <td>59.70</td>\n      <td>scattered clouds</td>\n      <td>70.6333</td>\n      <td>147.9167</td>\n      <td></td>\n    </tr>\n    <tr>\n      <th>6</th>\n      <td>Bengkulu</td>\n      <td>ID</td>\n      <td>74.98</td>\n      <td>few clouds</td>\n      <td>-3.8004</td>\n      <td>102.2655</td>\n      <td></td>\n    </tr>\n    <tr>\n      <th>7</th>\n      <td>Haines Junction</td>\n      <td>CA</td>\n      <td>60.75</td>\n      <td>light rain</td>\n      <td>60.7522</td>\n      <td>-137.5108</td>\n      <td></td>\n    </tr>\n    <tr>\n      <th>9</th>\n      <td>Rikitea</td>\n      <td>PF</td>\n      <td>75.81</td>\n      <td>overcast clouds</td>\n      <td>-23.1203</td>\n      <td>-134.9692</td>\n      <td></td>\n    </tr>\n    <tr>\n      <th>10</th>\n      <td>Saint-Philippe</td>\n      <td>RE</td>\n      <td>73.47</td>\n      <td>light rain</td>\n      <td>-21.3585</td>\n      <td>55.7679</td>\n      <td></td>\n    </tr>\n    <tr>\n      <th>11</th>\n      <td>Castro</td>\n      <td>BR</td>\n      <td>59.61</td>\n      <td>clear sky</td>\n      <td>-24.7911</td>\n      <td>-50.0119</td>\n      <td></td>\n    </tr>\n    <tr>\n      <th>12</th>\n      <td>Nabire</td>\n      <td>ID</td>\n      <td>76.14</td>\n      <td>overcast clouds</td>\n      <td>-3.3667</td>\n      <td>135.4833</td>\n      <td></td>\n    </tr>\n    <tr>\n      <th>14</th>\n      <td>Souillac</td>\n      <td>MU</td>\n      <td>70.18</td>\n      <td>scattered clouds</td>\n      <td>-20.5167</td>\n      <td>57.5167</td>\n      <td></td>\n    </tr>\n  </tbody>\n</table>\n</div>"
     },
     "metadata": {},
     "execution_count": 9
    }
   ],
   "source": [
    "# 5a. Create DataFrame called hotel_df to store hotel names along with city, country, max temp, and coordinates.\n",
    "hotel_df = clean_df[[\"City\", \"Country\", \"Max Temp\", \"Current Description\", \"Lat\", \"Lng\"]].copy()\n",
    "\n",
    "# 5b. Create a new column \"Hotel Name\"\n",
    "hotel_df[\"Hotel Name\"] = \"\"\n",
    "hotel_df.head(10)"
   ]
  },
  {
   "cell_type": "code",
   "execution_count": 10,
   "metadata": {},
   "outputs": [
    {
     "output_type": "stream",
     "name": "stdout",
     "text": [
      "Hotel not found... skipping.\n",
      "Hotel not found... skipping.\n",
      "Hotel not found... skipping.\n",
      "Hotel not found... skipping.\n",
      "Hotel not found... skipping.\n",
      "Hotel not found... skipping.\n",
      "Hotel not found... skipping.\n",
      "Hotel not found... skipping.\n",
      "Hotel not found... skipping.\n",
      "Hotel not found... skipping.\n",
      "Hotel not found... skipping.\n",
      "Hotel not found... skipping.\n",
      "Hotel not found... skipping.\n",
      "Hotel not found... skipping.\n",
      "Hotel not found... skipping.\n",
      "Hotel not found... skipping.\n",
      "Hotel not found... skipping.\n",
      "Hotel not found... skipping.\n",
      "Hotel not found... skipping.\n",
      "Hotel not found... skipping.\n",
      "Hotel not found... skipping.\n",
      "Hotel not found... skipping.\n",
      "Hotel not found... skipping.\n",
      "Hotel not found... skipping.\n",
      "Hotel not found... skipping.\n",
      "Hotel not found... skipping.\n",
      "Hotel not found... skipping.\n",
      "Hotel not found... skipping.\n",
      "Hotel not found... skipping.\n",
      "Hotel not found... skipping.\n"
     ]
    },
    {
     "output_type": "execute_result",
     "data": {
      "text/plain": [
       "               City Country  Max Temp Current Description      Lat       Lng  \\\n",
       "0            Avarua      CK     77.05    scattered clouds -21.2078 -159.7750   \n",
       "2           Ochakiv      UA     60.94    scattered clouds  46.6128   31.5498   \n",
       "3        Chokurdakh      RU     59.70    scattered clouds  70.6333  147.9167   \n",
       "6          Bengkulu      ID     74.98          few clouds  -3.8004  102.2655   \n",
       "7   Haines Junction      CA     60.75          light rain  60.7522 -137.5108   \n",
       "9           Rikitea      PF     75.81     overcast clouds -23.1203 -134.9692   \n",
       "10   Saint-Philippe      RE     73.47          light rain -21.3585   55.7679   \n",
       "11           Castro      BR     59.61           clear sky -24.7911  -50.0119   \n",
       "12           Nabire      ID     76.14     overcast clouds  -3.3667  135.4833   \n",
       "14         Souillac      MU     70.18    scattered clouds -20.5167   57.5167   \n",
       "\n",
       "                      Hotel Name  \n",
       "0                   Paradise Inn  \n",
       "2                           Briz  \n",
       "3                                 \n",
       "6           Grage Hotel Bengkulu  \n",
       "7                   Parkside Inn  \n",
       "9                 Pension Maro'i  \n",
       "10  Chambres d'hôte \"La Trinité\"  \n",
       "11                CHACARA BAILLY  \n",
       "12        Hotel Nusantara Nabire  \n",
       "14   Shanti Maurice Resort & Spa  "
      ],
      "text/html": "<div>\n<style scoped>\n    .dataframe tbody tr th:only-of-type {\n        vertical-align: middle;\n    }\n\n    .dataframe tbody tr th {\n        vertical-align: top;\n    }\n\n    .dataframe thead th {\n        text-align: right;\n    }\n</style>\n<table border=\"1\" class=\"dataframe\">\n  <thead>\n    <tr style=\"text-align: right;\">\n      <th></th>\n      <th>City</th>\n      <th>Country</th>\n      <th>Max Temp</th>\n      <th>Current Description</th>\n      <th>Lat</th>\n      <th>Lng</th>\n      <th>Hotel Name</th>\n    </tr>\n  </thead>\n  <tbody>\n    <tr>\n      <th>0</th>\n      <td>Avarua</td>\n      <td>CK</td>\n      <td>77.05</td>\n      <td>scattered clouds</td>\n      <td>-21.2078</td>\n      <td>-159.7750</td>\n      <td>Paradise Inn</td>\n    </tr>\n    <tr>\n      <th>2</th>\n      <td>Ochakiv</td>\n      <td>UA</td>\n      <td>60.94</td>\n      <td>scattered clouds</td>\n      <td>46.6128</td>\n      <td>31.5498</td>\n      <td>Briz</td>\n    </tr>\n    <tr>\n      <th>3</th>\n      <td>Chokurdakh</td>\n      <td>RU</td>\n      <td>59.70</td>\n      <td>scattered clouds</td>\n      <td>70.6333</td>\n      <td>147.9167</td>\n      <td></td>\n    </tr>\n    <tr>\n      <th>6</th>\n      <td>Bengkulu</td>\n      <td>ID</td>\n      <td>74.98</td>\n      <td>few clouds</td>\n      <td>-3.8004</td>\n      <td>102.2655</td>\n      <td>Grage Hotel Bengkulu</td>\n    </tr>\n    <tr>\n      <th>7</th>\n      <td>Haines Junction</td>\n      <td>CA</td>\n      <td>60.75</td>\n      <td>light rain</td>\n      <td>60.7522</td>\n      <td>-137.5108</td>\n      <td>Parkside Inn</td>\n    </tr>\n    <tr>\n      <th>9</th>\n      <td>Rikitea</td>\n      <td>PF</td>\n      <td>75.81</td>\n      <td>overcast clouds</td>\n      <td>-23.1203</td>\n      <td>-134.9692</td>\n      <td>Pension Maro'i</td>\n    </tr>\n    <tr>\n      <th>10</th>\n      <td>Saint-Philippe</td>\n      <td>RE</td>\n      <td>73.47</td>\n      <td>light rain</td>\n      <td>-21.3585</td>\n      <td>55.7679</td>\n      <td>Chambres d'hôte \"La Trinité\"</td>\n    </tr>\n    <tr>\n      <th>11</th>\n      <td>Castro</td>\n      <td>BR</td>\n      <td>59.61</td>\n      <td>clear sky</td>\n      <td>-24.7911</td>\n      <td>-50.0119</td>\n      <td>CHACARA BAILLY</td>\n    </tr>\n    <tr>\n      <th>12</th>\n      <td>Nabire</td>\n      <td>ID</td>\n      <td>76.14</td>\n      <td>overcast clouds</td>\n      <td>-3.3667</td>\n      <td>135.4833</td>\n      <td>Hotel Nusantara Nabire</td>\n    </tr>\n    <tr>\n      <th>14</th>\n      <td>Souillac</td>\n      <td>MU</td>\n      <td>70.18</td>\n      <td>scattered clouds</td>\n      <td>-20.5167</td>\n      <td>57.5167</td>\n      <td>Shanti Maurice Resort &amp; Spa</td>\n    </tr>\n  </tbody>\n</table>\n</div>"
     },
     "metadata": {},
     "execution_count": 10
    }
   ],
   "source": [
    "# 6a. Set parameters to search for hotels with 5000 meters.\n",
    "params = {\n",
    "    \"radius\": 5000,\n",
    "    \"type\": \"lodging\",\n",
    "    \"key\": g_key\n",
    "}\n",
    "\n",
    "# 6b. Iterate through the hotel DataFrame.\n",
    "for index, row in hotel_df.iterrows():\n",
    "    # 6c. Get latitude and longitude from DataFrame\n",
    "    lat = row[\"Lat\"]\n",
    "    lng = row[\"Lng\"]\n",
    "    params[\"location\"] = f\"{lat},{lng}\"\n",
    "\n",
    "    # 6d. Set up the base URL for the Google Directions API to get JSON data.\n",
    "    base_url = \"https://maps.googleapis.com/maps/api/place/nearbysearch/json\"\n",
    "\n",
    "    # 6e. Make request and retrieve the JSON data from the search. \n",
    "    hotels = requests.get(base_url, params=params).json()  \n",
    "    \n",
    "    # 6f. Get the first hotel from the results and store the name, if a hotel isn't found skip the city.\n",
    "    try:\n",
    "      hotel_df.loc[index, \"Hotel Name\"] = hotels[\"results\"][0][\"name\"]\n",
    "    except (IndexError):\n",
    "      print(\"Hotel not found... skipping.\")\n",
    "\n",
    "hotel_df.head(10)"
   ]
  },
  {
   "cell_type": "code",
   "execution_count": 11,
   "metadata": {},
   "outputs": [
    {
     "output_type": "execute_result",
     "data": {
      "text/plain": [
       "               City Country  Max Temp Current Description      Lat       Lng  \\\n",
       "0            Avarua      CK     77.05    scattered clouds -21.2078 -159.7750   \n",
       "2           Ochakiv      UA     60.94    scattered clouds  46.6128   31.5498   \n",
       "6          Bengkulu      ID     74.98          few clouds  -3.8004  102.2655   \n",
       "7   Haines Junction      CA     60.75          light rain  60.7522 -137.5108   \n",
       "9           Rikitea      PF     75.81     overcast clouds -23.1203 -134.9692   \n",
       "10   Saint-Philippe      RE     73.47          light rain -21.3585   55.7679   \n",
       "11           Castro      BR     59.61           clear sky -24.7911  -50.0119   \n",
       "12           Nabire      ID     76.14     overcast clouds  -3.3667  135.4833   \n",
       "14         Souillac      MU     70.18    scattered clouds -20.5167   57.5167   \n",
       "17            Kieta      PG     82.29           clear sky  -6.2167  155.6333   \n",
       "\n",
       "                      Hotel Name  \n",
       "0                   Paradise Inn  \n",
       "2                           Briz  \n",
       "6           Grage Hotel Bengkulu  \n",
       "7                   Parkside Inn  \n",
       "9                 Pension Maro'i  \n",
       "10  Chambres d'hôte \"La Trinité\"  \n",
       "11                CHACARA BAILLY  \n",
       "12        Hotel Nusantara Nabire  \n",
       "14   Shanti Maurice Resort & Spa  \n",
       "17             Uruna Bay Retreat  "
      ],
      "text/html": "<div>\n<style scoped>\n    .dataframe tbody tr th:only-of-type {\n        vertical-align: middle;\n    }\n\n    .dataframe tbody tr th {\n        vertical-align: top;\n    }\n\n    .dataframe thead th {\n        text-align: right;\n    }\n</style>\n<table border=\"1\" class=\"dataframe\">\n  <thead>\n    <tr style=\"text-align: right;\">\n      <th></th>\n      <th>City</th>\n      <th>Country</th>\n      <th>Max Temp</th>\n      <th>Current Description</th>\n      <th>Lat</th>\n      <th>Lng</th>\n      <th>Hotel Name</th>\n    </tr>\n  </thead>\n  <tbody>\n    <tr>\n      <th>0</th>\n      <td>Avarua</td>\n      <td>CK</td>\n      <td>77.05</td>\n      <td>scattered clouds</td>\n      <td>-21.2078</td>\n      <td>-159.7750</td>\n      <td>Paradise Inn</td>\n    </tr>\n    <tr>\n      <th>2</th>\n      <td>Ochakiv</td>\n      <td>UA</td>\n      <td>60.94</td>\n      <td>scattered clouds</td>\n      <td>46.6128</td>\n      <td>31.5498</td>\n      <td>Briz</td>\n    </tr>\n    <tr>\n      <th>6</th>\n      <td>Bengkulu</td>\n      <td>ID</td>\n      <td>74.98</td>\n      <td>few clouds</td>\n      <td>-3.8004</td>\n      <td>102.2655</td>\n      <td>Grage Hotel Bengkulu</td>\n    </tr>\n    <tr>\n      <th>7</th>\n      <td>Haines Junction</td>\n      <td>CA</td>\n      <td>60.75</td>\n      <td>light rain</td>\n      <td>60.7522</td>\n      <td>-137.5108</td>\n      <td>Parkside Inn</td>\n    </tr>\n    <tr>\n      <th>9</th>\n      <td>Rikitea</td>\n      <td>PF</td>\n      <td>75.81</td>\n      <td>overcast clouds</td>\n      <td>-23.1203</td>\n      <td>-134.9692</td>\n      <td>Pension Maro'i</td>\n    </tr>\n    <tr>\n      <th>10</th>\n      <td>Saint-Philippe</td>\n      <td>RE</td>\n      <td>73.47</td>\n      <td>light rain</td>\n      <td>-21.3585</td>\n      <td>55.7679</td>\n      <td>Chambres d'hôte \"La Trinité\"</td>\n    </tr>\n    <tr>\n      <th>11</th>\n      <td>Castro</td>\n      <td>BR</td>\n      <td>59.61</td>\n      <td>clear sky</td>\n      <td>-24.7911</td>\n      <td>-50.0119</td>\n      <td>CHACARA BAILLY</td>\n    </tr>\n    <tr>\n      <th>12</th>\n      <td>Nabire</td>\n      <td>ID</td>\n      <td>76.14</td>\n      <td>overcast clouds</td>\n      <td>-3.3667</td>\n      <td>135.4833</td>\n      <td>Hotel Nusantara Nabire</td>\n    </tr>\n    <tr>\n      <th>14</th>\n      <td>Souillac</td>\n      <td>MU</td>\n      <td>70.18</td>\n      <td>scattered clouds</td>\n      <td>-20.5167</td>\n      <td>57.5167</td>\n      <td>Shanti Maurice Resort &amp; Spa</td>\n    </tr>\n    <tr>\n      <th>17</th>\n      <td>Kieta</td>\n      <td>PG</td>\n      <td>82.29</td>\n      <td>clear sky</td>\n      <td>-6.2167</td>\n      <td>155.6333</td>\n      <td>Uruna Bay Retreat</td>\n    </tr>\n  </tbody>\n</table>\n</div>"
     },
     "metadata": {},
     "execution_count": 11
    }
   ],
   "source": [
    "# 7. Drop the rows where there is no Hotel Name.\n",
    "clean_hotel_df = hotel_df[hotel_df['Hotel Name'] != '']\n",
    "clean_hotel_df.head(10)"
   ]
  },
  {
   "cell_type": "code",
   "execution_count": 12,
   "metadata": {},
   "outputs": [],
   "source": [
    "# 8a. Create the output File (CSV)\n",
    "output_data_file = \"WeatherPy_vacation.csv\"\n",
    "\n",
    "# 8b. Export the City_Data into a csv\n",
    "clean_hotel_df.to_csv(output_data_file, index_label=\"City_ID\")"
   ]
  },
  {
   "cell_type": "code",
   "execution_count": 13,
   "metadata": {},
   "outputs": [],
   "source": [
    "# 9. Using the template add city name, the country code, the weather description and maximum temperature for the city.\n",
    "info_box_template = \"\"\"\n",
    "<dl>\n",
    "<dt>City</dt><dd>{City}</dd>\n",
    "<dt>Country</dt><dd>{Country}</dd>\n",
    "<dt>Current Description</dt><dd>{Current Description}</dd>\n",
    "<dt>Max Temp</dt><dd>{Max Temp} °F</dd>\n",
    "</dl>\n",
    "\"\"\"\n",
    "\n",
    "# 10a. Get the data from each row and add it to the formatting template and store the data in a list.\n",
    "hotel_info = [info_box_template.format(**row) for index, row in clean_hotel_df.iterrows()]\n",
    "\n",
    "# 10b. Get the latitude and longitude from each row and store in a new DataFrame.\n",
    "locations = clean_hotel_df[[\"Lat\", \"Lng\"]]"
   ]
  },
  {
   "cell_type": "code",
   "execution_count": 14,
   "metadata": {},
   "outputs": [
    {
     "output_type": "display_data",
     "data": {
      "text/plain": "Figure(layout=FigureLayout(height='420px'))",
      "application/vnd.jupyter.widget-view+json": {
       "version_major": 2,
       "version_minor": 0,
       "model_id": "26cea39e89b44288bc66501dca0e60d0"
      }
     },
     "metadata": {}
    }
   ],
   "source": [
    "# 11a. Add a marker layer for each city to the map. \n",
    "fig = gmaps.figure(center=(30.0, 31.0), zoom_level=1.5)\n",
    "marker_layer = gmaps.marker_layer(locations, info_box_content=hotel_info)\n",
    "fig.add_layer(marker_layer)\n",
    "\n",
    "# 11b. Display the figure\n",
    "fig"
   ]
  },
  {
   "cell_type": "code",
   "execution_count": null,
   "metadata": {},
   "outputs": [],
   "source": []
  }
 ],
 "metadata": {
  "kernelspec": {
   "name": "pythondata",
   "display_name": "Python 3.7.10 64-bit ('PythonData': conda)"
  },
  "language_info": {
   "codemirror_mode": {
    "name": "ipython",
    "version": 3
   },
   "file_extension": ".py",
   "mimetype": "text/x-python",
   "name": "python",
   "nbconvert_exporter": "python",
   "pygments_lexer": "ipython3",
   "version": "3.7.10"
  },
  "latex_envs": {
   "LaTeX_envs_menu_present": true,
   "autoclose": false,
   "autocomplete": true,
   "bibliofile": "biblio.bib",
   "cite_by": "apalike",
   "current_citInitial": 1,
   "eqLabelWithNumbers": true,
   "eqNumInitial": 1,
   "hotkeys": {
    "equation": "Ctrl-E",
    "itemize": "Ctrl-I"
   },
   "labels_anchors": false,
   "latex_user_defs": false,
   "report_style_numbering": false,
   "user_envs_cfg": false
  }
 },
 "nbformat": 4,
 "nbformat_minor": 2
}