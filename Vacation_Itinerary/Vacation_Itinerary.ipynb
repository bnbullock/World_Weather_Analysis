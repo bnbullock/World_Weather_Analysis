{
 "cells": [
  {
   "cell_type": "markdown",
   "metadata": {},
   "source": [
    "## Deliverable 3. Create a Travel Itinerary Map."
   ]
  },
  {
   "cell_type": "code",
   "execution_count": 2,
   "metadata": {},
   "outputs": [],
   "source": [
    "# Dependencies and Setup\n",
    "import pandas as pd\n",
    "import requests\n",
    "import gmaps\n",
    "\n",
    "# Import API key\n",
    "from config import g_key\n",
    "\n",
    "# Configure gmaps\n",
    "gmaps.configure(api_key=g_key)"
   ]
  },
  {
   "cell_type": "code",
   "execution_count": 17,
   "metadata": {},
   "outputs": [
    {
     "output_type": "execute_result",
     "data": {
      "text/plain": [
       "   City_ID             City Country  Max Temp Current Description      Lat  \\\n",
       "0        0           Avarua      CK     77.05    scattered clouds -21.2078   \n",
       "1        2          Ochakiv      UA     60.94    scattered clouds  46.6128   \n",
       "2        6         Bengkulu      ID     74.98          few clouds  -3.8004   \n",
       "3        7  Haines Junction      CA     60.75          light rain  60.7522   \n",
       "4        9          Rikitea      PF     75.81     overcast clouds -23.1203   \n",
       "\n",
       "        Lng            Hotel Name  \n",
       "0 -159.7750          Paradise Inn  \n",
       "1   31.5498                  Briz  \n",
       "2  102.2655  Grage Hotel Bengkulu  \n",
       "3 -137.5108          Parkside Inn  \n",
       "4 -134.9692        Pension Maro'i  "
      ],
      "text/html": "<div>\n<style scoped>\n    .dataframe tbody tr th:only-of-type {\n        vertical-align: middle;\n    }\n\n    .dataframe tbody tr th {\n        vertical-align: top;\n    }\n\n    .dataframe thead th {\n        text-align: right;\n    }\n</style>\n<table border=\"1\" class=\"dataframe\">\n  <thead>\n    <tr style=\"text-align: right;\">\n      <th></th>\n      <th>City_ID</th>\n      <th>City</th>\n      <th>Country</th>\n      <th>Max Temp</th>\n      <th>Current Description</th>\n      <th>Lat</th>\n      <th>Lng</th>\n      <th>Hotel Name</th>\n    </tr>\n  </thead>\n  <tbody>\n    <tr>\n      <th>0</th>\n      <td>0</td>\n      <td>Avarua</td>\n      <td>CK</td>\n      <td>77.05</td>\n      <td>scattered clouds</td>\n      <td>-21.2078</td>\n      <td>-159.7750</td>\n      <td>Paradise Inn</td>\n    </tr>\n    <tr>\n      <th>1</th>\n      <td>2</td>\n      <td>Ochakiv</td>\n      <td>UA</td>\n      <td>60.94</td>\n      <td>scattered clouds</td>\n      <td>46.6128</td>\n      <td>31.5498</td>\n      <td>Briz</td>\n    </tr>\n    <tr>\n      <th>2</th>\n      <td>6</td>\n      <td>Bengkulu</td>\n      <td>ID</td>\n      <td>74.98</td>\n      <td>few clouds</td>\n      <td>-3.8004</td>\n      <td>102.2655</td>\n      <td>Grage Hotel Bengkulu</td>\n    </tr>\n    <tr>\n      <th>3</th>\n      <td>7</td>\n      <td>Haines Junction</td>\n      <td>CA</td>\n      <td>60.75</td>\n      <td>light rain</td>\n      <td>60.7522</td>\n      <td>-137.5108</td>\n      <td>Parkside Inn</td>\n    </tr>\n    <tr>\n      <th>4</th>\n      <td>9</td>\n      <td>Rikitea</td>\n      <td>PF</td>\n      <td>75.81</td>\n      <td>overcast clouds</td>\n      <td>-23.1203</td>\n      <td>-134.9692</td>\n      <td>Pension Maro'i</td>\n    </tr>\n  </tbody>\n</table>\n</div>"
     },
     "metadata": {},
     "execution_count": 17
    }
   ],
   "source": [
    "# 1. Read the WeatherPy_vacation.csv into a DataFrame.\n",
    "vacation_df = pd.read_csv(\"../Vacation_Search/WeatherPy_vacation.csv\")\n",
    "vacation_df.head()"
   ]
  },
  {
   "cell_type": "code",
   "execution_count": 18,
   "metadata": {},
   "outputs": [],
   "source": [
    "# 2. Using the template add the city name, the country code, the weather description and maximum temperature for the city.\n",
    "info_box_template = \"\"\"\n",
    "<dl>\n",
    "<dt>City</dt><dd>{City}</dd>\n",
    "<dt>Country</dt><dd>{Country}</dd>\n",
    "<dt>Current Description</dt><dd>{Current Description}</dd>\n",
    "<dt>Max Temp</dt><dd>{Max Temp} °F</dd>\n",
    "</dl>\n",
    "\"\"\"\n",
    "\n",
    "# 3a. Get the data from each row and add it to the formatting template and store the data in a list.\n",
    "hotel_info = [info_box_template.format(**row) for index, row in vacation_df.iterrows()]\n",
    "\n",
    "# 3b. Get the latitude and longitude from each row and store in a new DataFrame.\n",
    "locations = vacation_df[[\"Lat\", \"Lng\"]]"
   ]
  },
  {
   "cell_type": "code",
   "execution_count": 19,
   "metadata": {},
   "outputs": [
    {
     "output_type": "display_data",
     "data": {
      "text/plain": "Figure(layout=FigureLayout(height='420px'))",
      "application/vnd.jupyter.widget-view+json": {
       "version_major": 2,
       "version_minor": 0,
       "model_id": "1ddbb1b06ebf42b9baa5cb88127736c0"
      }
     },
     "metadata": {}
    }
   ],
   "source": [
    "# 4a. Add a marker layer for each city to the map.\n",
    "fig = gmaps.figure(center=(30.0, 31.0), zoom_level=1.5)\n",
    "marker_layer = gmaps.marker_layer(locations, info_box_content=hotel_info)\n",
    "fig.add_layer(marker_layer)\n",
    "\n",
    "# 4b. Display the figure\n",
    "fig\n"
   ]
  },
  {
   "cell_type": "code",
   "execution_count": 21,
   "metadata": {},
   "outputs": [],
   "source": [
    "# From the map above pick 4 cities and create a vacation itinerary route to travel between the four cities. \n",
    "# 5. Create DataFrames for each city by filtering the 'vacation_df' using the loc method. \n",
    "# Hint: The starting and ending city should be the same city.\n",
    "\n",
    "vacation_start = vacation_df.loc[vacation_df[\"City\"] == \"Termoli\"]\n",
    "vacation_end = vacation_df.loc[vacation_df[\"City\"] == \"Termoli\"]\n",
    "vacation_stop1 = vacation_df.loc[vacation_df[\"City\"] == \"Pombia\"]\n",
    "vacation_stop2 = vacation_df.loc[vacation_df[\"City\"] == \"Sabaudia\"] \n",
    "vacation_stop3 = vacation_df.loc[vacation_df[\"City\"] == \"Catanzaro\"] "
   ]
  },
  {
   "cell_type": "code",
   "execution_count": 22,
   "metadata": {},
   "outputs": [],
   "source": [
    "# 6. Get the latitude-longitude pairs as tuples from each city DataFrame using the to_numpy function and list indexing.\n",
    "start =  vacation_start[\"Lat\"].to_numpy()[0], vacation_start[\"Lng\"].to_numpy()[0]\n",
    "end = vacation_start[\"Lat\"].to_numpy()[0], vacation_start[\"Lng\"].to_numpy()[0]\n",
    "stop1 = vacation_stop1[\"Lat\"].to_numpy()[0], vacation_stop1[\"Lng\"].to_numpy()[0]\n",
    "stop2 = vacation_stop2[\"Lat\"].to_numpy()[0], vacation_stop2[\"Lng\"].to_numpy()[0]\n",
    "stop3 = vacation_stop3[\"Lat\"].to_numpy()[0], vacation_stop3[\"Lng\"].to_numpy()[0]"
   ]
  },
  {
   "cell_type": "code",
   "execution_count": 64,
   "metadata": {
    "scrolled": true
   },
   "outputs": [
    {
     "output_type": "display_data",
     "data": {
      "text/plain": "Figure(layout=FigureLayout(height='420px'))",
      "application/vnd.jupyter.widget-view+json": {
       "version_major": 2,
       "version_minor": 0,
       "model_id": "8f0430d365764fabb48032dc4ba82967"
      }
     },
     "metadata": {}
    }
   ],
   "source": [
    "# 7. Create a direction layer map using the start and end latitude-longitude pairs,\n",
    "# and stop1, stop2, and stop3 as the waypoints. The travel_mode should be \"DRIVING\", \"BICYCLING\", or \"WALKING\".\n",
    "# Create Map with route \n",
    "fig = gmaps.figure()\n",
    "city_itinerary1 = gmaps.directions_layer(\n",
    "        start, end, waypoints=[stop1, stop2, stop3],\n",
    "        travel_mode='DRIVING', stroke_color='yellow', stroke_weight=3.0)\n",
    "city_itinerary2 = gmaps.directions_layer(\n",
    "        start, end, waypoints=[stop1, stop2, stop3],\n",
    "        travel_mode='BICYCLING', stroke_color='green', stroke_weight=3.0)\n",
    "city_itinerary3 = gmaps.directions_layer(\n",
    "        start, end, waypoints=[stop1, stop2, stop3],\n",
    "        travel_mode='WALKING', stroke_color='blue', stroke_weight=3.0)\n",
    "\n",
    "\n",
    "fig.add_layer(city_itinerary1)\n",
    "fig.add_layer(city_itinerary2)\n",
    "fig.add_layer(city_itinerary3)\n",
    "fig\n"
   ]
  },
  {
   "cell_type": "code",
   "execution_count": 56,
   "metadata": {},
   "outputs": [
    {
     "output_type": "execute_result",
     "data": {
      "text/plain": [
       "   City_ID       City Country  Max Temp Current Description      Lat      Lng  \\\n",
       "0      291    Termoli      IT     67.28          few clouds  41.9888  14.9895   \n",
       "1      551     Pombia      IT     67.71           clear sky  45.6530   8.6336   \n",
       "2      543   Sabaudia      IT     71.76       broken clouds  41.3003  13.0282   \n",
       "3      140  Catanzaro      IT     61.16          few clouds  38.8908  16.5987   \n",
       "\n",
       "        Hotel Name  \n",
       "0    Hotel Mistral  \n",
       "1  Albergo Fontana  \n",
       "2    Oasi di Kufra  \n",
       "3      Benny Hotel  "
      ],
      "text/html": "<div>\n<style scoped>\n    .dataframe tbody tr th:only-of-type {\n        vertical-align: middle;\n    }\n\n    .dataframe tbody tr th {\n        vertical-align: top;\n    }\n\n    .dataframe thead th {\n        text-align: right;\n    }\n</style>\n<table border=\"1\" class=\"dataframe\">\n  <thead>\n    <tr style=\"text-align: right;\">\n      <th></th>\n      <th>City_ID</th>\n      <th>City</th>\n      <th>Country</th>\n      <th>Max Temp</th>\n      <th>Current Description</th>\n      <th>Lat</th>\n      <th>Lng</th>\n      <th>Hotel Name</th>\n    </tr>\n  </thead>\n  <tbody>\n    <tr>\n      <th>0</th>\n      <td>291</td>\n      <td>Termoli</td>\n      <td>IT</td>\n      <td>67.28</td>\n      <td>few clouds</td>\n      <td>41.9888</td>\n      <td>14.9895</td>\n      <td>Hotel Mistral</td>\n    </tr>\n    <tr>\n      <th>1</th>\n      <td>551</td>\n      <td>Pombia</td>\n      <td>IT</td>\n      <td>67.71</td>\n      <td>clear sky</td>\n      <td>45.6530</td>\n      <td>8.6336</td>\n      <td>Albergo Fontana</td>\n    </tr>\n    <tr>\n      <th>2</th>\n      <td>543</td>\n      <td>Sabaudia</td>\n      <td>IT</td>\n      <td>71.76</td>\n      <td>broken clouds</td>\n      <td>41.3003</td>\n      <td>13.0282</td>\n      <td>Oasi di Kufra</td>\n    </tr>\n    <tr>\n      <th>3</th>\n      <td>140</td>\n      <td>Catanzaro</td>\n      <td>IT</td>\n      <td>61.16</td>\n      <td>few clouds</td>\n      <td>38.8908</td>\n      <td>16.5987</td>\n      <td>Benny Hotel</td>\n    </tr>\n  </tbody>\n</table>\n</div>"
     },
     "metadata": {},
     "execution_count": 56
    }
   ],
   "source": [
    "# 8. To create a marker layer map between the four cities.\n",
    "#  Combine the four city DataFrames into one DataFrame using the concat() function.\n",
    "itinerary_df = pd.concat([vacation_start, vacation_stop1, vacation_stop2, vacation_stop3],ignore_index=True)\n",
    "itinerary_df"
   ]
  },
  {
   "cell_type": "code",
   "execution_count": 57,
   "metadata": {},
   "outputs": [],
   "source": [
    "# 9 Using the template add city name, the country code, the weather description and maximum temperature for the city. \n",
    "info_box_template = \"\"\"\n",
    "<dl>\n",
    "<dt>City</dt><dd>{City}</dd>\n",
    "<dt>Country</dt><dd>{Country}</dd>\n",
    "<dt>Current Description</dt><dd>{Current Description}</dd>\n",
    "<dt>Max Temp</dt><dd>{Max Temp} °F</dd>\n",
    "</dl>\n",
    "\"\"\"\n",
    "\n",
    "# 10a Get the data from each row and add it to the formatting template and store the data in a list.\n",
    "hotel_info = [info_box_template.format(**row) for index, row in itinerary_df.iterrows()]\n",
    "\n",
    "# 10b. Get the latitude and longitude from each row and store in a new DataFrame.\n",
    "locations = itinerary_df[[\"Lat\", \"Lng\"]]"
   ]
  },
  {
   "cell_type": "code",
   "execution_count": 14,
   "metadata": {},
   "outputs": [
    {
     "output_type": "display_data",
     "data": {
      "text/plain": "Figure(layout=FigureLayout(height='420px'))",
      "application/vnd.jupyter.widget-view+json": {
       "version_major": 2,
       "version_minor": 0,
       "model_id": "e748216910ee4fb79b34f7fb7c3e68f5"
      }
     },
     "metadata": {}
    }
   ],
   "source": [
    "# 11a. Add a marker layer for each city to the map.\n",
    "fig = gmaps.figure(center=(30.0, 31.0), zoom_level=1.5)\n",
    "marker_layer = gmaps.marker_layer(locations, info_box_content=hotel_info)\n",
    "fig.add_layer(marker_layer)\n",
    "\n",
    "# 11b. Display the figure\n",
    "fig"
   ]
  },
  {
   "cell_type": "code",
   "execution_count": null,
   "metadata": {},
   "outputs": [],
   "source": []
  }
 ],
 "metadata": {
  "kernelspec": {
   "name": "python3710jvsc74a57bd02a07f553437c3d97f8d38276700b7a0f9c22707713cd7711db251d9481515310",
   "display_name": "Python 3.7.10 64-bit ('PythonData': conda)"
  },
  "language_info": {
   "codemirror_mode": {
    "name": "ipython",
    "version": 3
   },
   "file_extension": ".py",
   "mimetype": "text/x-python",
   "name": "python",
   "nbconvert_exporter": "python",
   "pygments_lexer": "ipython3",
   "version": "3.7.10"
  },
  "latex_envs": {
   "LaTeX_envs_menu_present": true,
   "autoclose": false,
   "autocomplete": true,
   "bibliofile": "biblio.bib",
   "cite_by": "apalike",
   "current_citInitial": 1,
   "eqLabelWithNumbers": true,
   "eqNumInitial": 1,
   "hotkeys": {
    "equation": "Ctrl-E",
    "itemize": "Ctrl-I"
   },
   "labels_anchors": false,
   "latex_user_defs": false,
   "report_style_numbering": false,
   "user_envs_cfg": false
  }
 },
 "nbformat": 4,
 "nbformat_minor": 2
}